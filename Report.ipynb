{
 "cells": [
  {
   "cell_type": "markdown",
   "id": "8ffbbe90-41fb-43c0-b739-1ce66f8a2c06",
   "metadata": {},
   "source": [
    "## Project Report: Dynamic Pricing for Urban Parking Lots"
   ]
  },
  {
   "cell_type": "markdown",
   "id": "0a4454df-6263-43a0-af1f-c0bd53eb07cd",
   "metadata": {},
   "source": [
    "## 1. Project Objective and Background:"
   ]
  },
  {
   "cell_type": "markdown",
   "id": "c9294d31-4773-469d-9c21-c60991334a49",
   "metadata": {},
   "source": [
    "Urban parking spaces are a finite resource, and static pricing models often lead to suboptimal utilization, resulting in either overcrowding during peak times or under utilization during off-peak hours.The primary goal of this capstone project is to develop an intelligent, data-driven dynamic pricing engine designed to enhance the utilization of 14 urban parking spaces.The system simulates real-time data streams to continuously adjust parking prices based on fluctuating demand, competitive dynamics, and real-time environmental conditions."
   ]
  },
  {
   "cell_type": "markdown",
   "id": "72550e96-70da-41cf-ad0b-0b8ca8d37bf7",
   "metadata": {},
   "source": [
    "## 2. Data Description and Preprocessing:"
   ]
  },
  {
   "cell_type": "markdown",
   "id": "3b44a08d-f46a-4034-841e-fa0ff5d21d72",
   "metadata": {},
   "source": [
    "The project utilizes a dataset comprising 73 days of operational data from 14 distinct urban parking spaces, with data sampled at 18 time points daily (from 8:00 AM to 4:30 PM, at 30-minute intervals). Each record in the dataset.csv file provides crucial information:\n",
    "## •Location Information:"
   ]
  },
  {
   "cell_type": "markdown",
   "id": "18452ab7-7d0c-4043-9ade-1b79e684a4dc",
   "metadata": {},
   "source": [
    "Latitude and Longitude for each parking space, essential for\n",
    "calculating proximity to competitors."
   ]
  },
  {
   "cell_type": "markdown",
   "id": "bad1545e-01c6-4bcb-88c8-b9558c81f74b",
   "metadata": {},
   "source": [
    "## • Parking Lot Features:"
   ]
  },
  {
   "cell_type": "markdown",
   "id": "b4c4ee76-b7b2-4c7d-82f1-e2b44232db96",
   "metadata": {},
   "source": [
    "•Capacity (maximum vehicles), Occupancy (current vehicles),\n",
    "and QueueLength (vehicles waiting for entry)."
   ]
  },
  {
   "cell_type": "markdown",
   "id": "e77ae643-7fff-440d-9eb9-4fd0cf7d5d71",
   "metadata": {},
   "source": [
    "## • Vehicle Information:"
   ]
  },
  {
   "cell_type": "markdown",
   "id": "a60be59c-4ea9-45d6-83d4-9f6ede55b6d9",
   "metadata": {},
   "source": [
    "VehicleType (car, bike, or truck).•"
   ]
  },
  {
   "cell_type": "markdown",
   "id": "1f1c9328-9cc8-47a5-8d1f-111ed9319687",
   "metadata": {},
   "source": [
    "## • Environmental Conditions:"
   ]
  },
  {
   "cell_type": "markdown",
   "id": "7dfcf255-3bec-46dc-8d1a-d35d4fc61e29",
   "metadata": {},
   "source": [
    "•TrafficConditionNearby and IsSpecialDay (e.g., holidays, events)."
   ]
  },
  {
   "cell_type": "markdown",
   "id": "232dbc36-6ec6-454d-be1f-8c9b4c226cf0",
   "metadata": {},
   "source": [
    "## Key Preprocessing Steps:"
   ]
  },
  {
   "cell_type": "markdown",
   "id": "a40e51d7-8a25-4282-bee5-cabc8a7b9ff5",
   "metadata": {},
   "source": [
    "## • DateTime Unification: \n",
    "LastUpdatedDate and LastUpdatedTime columns were combined and converted into a single DateTime object for time-series analysis and sorting.\n",
    "## •Temporal Feature Extraction: \n",
    "HourOfDay, DayOfWeek, MinuteOfDay, and IsWeekend were derived to capture cyclical and daily demand patterns. A TimeOfDayCategory (MorningPeak, MidMorning, LunchPeak, Afternoon, OffPeak) was created based on common urban parking demand profiles.\n",
    "## •Categorical Encoding:\n",
    "VehicleType, TrafficConditionNearby, and TimeOfDayCategory columns were one-hot encoded to transform categorical text data into a numerical format suitable for the pricing model.\n",
    "## •Occupancy Rate Calculation:\n",
    "OccupancyRate was computed as Occupancy / Capacity, providing a normalized measure of current parking space utilization. Values were clipped between 0 and 1.\n",
    "## •Queue Length Rate:\n",
    "QueueLength was normalized by Capacity to get QueueLengthRate, reflecting the intensity of waiting vehicles relative to the lot's size.\n",
    "## •Demand Proxy Formulation:\n",
    "A composite DemandProxy was engineered by summing OccupancyRate and QueueLengthRate. This metric serves as a direct indicator of instantaneous demand pressure on a parking space.\n",
    "## •Nearby Competition Pressure:\n",
    "To quantify competitive influence, NearbyCompetitionPressure was calculated for each parking space at each timestamp. This metric represents the average DemandProxy of all other parking spaces within a defined geographical radius (e.g., 1.5 km, calculated using the Haversine formula). This captures how crowded or in-demand neighboring parking facilities are, directly influencing competitive pricing strategy."
   ]
  },
  {
   "cell_type": "markdown",
   "id": "286a0df5-5f09-4788-a1f9-a288859b1779",
   "metadata": {},
   "source": [
    "## • 3. Dynamic Pricing Model (Custom Implementation):"
   ]
  },
  {
   "cell_type": "markdown",
   "id": "9ef1c0ec-83bd-4f39-b738-1244d8800277",
   "metadata": {},
   "source": [
    "The dynamic pricing logic is encapsulated within a custom Python class, CustomDynamicPricingModel. Adhering to the project's constraints, this model is built from scratch using only numpy and pandas functionalities. It operates as an interpretable, rule-based linear model, where the final price is an aggregation of a base price and additive adjustments based on various input features.\n",
    "\n",
    "## •Demand Function:\n",
    "The core of our pricing strategy is the DemandProxy. The model's logic follows a functional form that adjusts prices based on the perceived demand and competitive environment:"
   ]
  }
 ],
 "metadata": {
  "kernelspec": {
   "display_name": "Python 3 (ipykernel)",
   "language": "python",
   "name": "python3"
  },
  "language_info": {
   "codemirror_mode": {
    "name": "ipython",
    "version": 3
   },
   "file_extension": ".py",
   "mimetype": "text/x-python",
   "name": "python",
   "nbconvert_exporter": "python",
   "pygments_lexer": "ipython3",
   "version": "3.13.5"
  }
 },
 "nbformat": 4,
 "nbformat_minor": 5
}
